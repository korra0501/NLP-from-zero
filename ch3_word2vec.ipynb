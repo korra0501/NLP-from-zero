{
 "nbformat": 4,
 "nbformat_minor": 2,
 "metadata": {
  "language_info": {
   "name": "python",
   "codemirror_mode": {
    "name": "ipython",
    "version": 3
   },
   "version": "3.7.1-final"
  },
  "orig_nbformat": 2,
  "file_extension": ".py",
  "mimetype": "text/x-python",
  "name": "python",
  "npconvert_exporter": "python",
  "pygments_lexer": "ipython3",
  "version": 3,
  "kernelspec": {
   "name": "python37164bitbasecondac1ab1b3ac90d4e2981ba357c16f579f5",
   "display_name": "Python 3.7.1 64-bit ('base': conda)"
  }
 },
 "cells": [
  {
   "cell_type": "markdown",
   "metadata": {},
   "source": [
    "# word2vec\n",
    "이 장에서 다룰 것도 마찬가지로 단어의 분산표현이다. 여기서는 '추론에 기반한 방법'에 대해 알아볼 것이다.\n",
    "먼저, word2vec을 실제로 코드로 짜보자!\n",
    "\n",
    "## 추론 기반의 방법과 신경망\n",
    "단어를 벡터로 표현한 방법 중, 성공한 것은 '카운트 기반 방법'과 '추론 기반 방법'이다. 이 두가지 방법의 배경에는 분배가설이 있다.\n",
    "\n",
    "### 카운트 기반의 방법의 문제점\n",
    "카운트 기반의 문제점은, 역시 어휘가 많아질 때 늘어난다. 어휘량이 100만개라고 할 때, 이 방식으로는 100만 x 100만의 거대한 행렬을 만들게 된다. 이 때, 이렇게 커다란 행렬에 대해 특이값분해를 하는 것은 현실적으로 불가능하다.\n",
    "\n",
    "카운트 기반 방법은 코퍼스 전체의 통계 데이터(cocurrence matrix나 ppmi 등)을 이용해, 1회의 처리(SVD 등)으로 단어의 분산표현을 얻는다. 반면, 추론 기반 방법은 미니배치를 이용한 학습을 진행한다. 따라서 연산의 부하가 덜 걸리게 된다.\n",
    "\n",
    "### 추론 기반의 방법 개요\n",
    "추론 기반은 말 그대로 문맥이 주어졌을 때, 중간에 구멍을 뚫어놓고 어떤 단어가 출현할지 추측하는 것이다. 이런 추측을 거듭하여, 단어의 출현 패턴을 학습한다.\n",
    "\n",
    "우리는 앞으로 신경망으로 단어를 처리할 것이다. 그러나, 'you'나 'will'같은 단어를 컴퓨터가 그대로 처리하지는 못한다. 신경망에 통과시키기 위해서는, 벡터로 변환할 필요가 있다. 이 방법 중 하나는 단어를 one-hot vector로 변환하는 것이다.\n",
    "\n",
    "따라서, 모든 단어를 one-hot vector로 변환하면 이 벡터의 집합은 신경망을 구성하는 다양한 '레이어'에 의해 처리할 수 있다.\n",
    "그렇다면 예를 들어보자. \n",
    "\n",
    "아래 예에서 c와 W의 내적은, 단순히 W의 행벡터를 \"끄집어 내는\" 것에 지나지 않는다. 비효율적이다. 그래서 ch4에서는 이를 개량한 코드를 작성할 것이다."
   ]
  },
  {
   "cell_type": "code",
   "execution_count": 1,
   "metadata": {},
   "outputs": [
    {
     "output_type": "stream",
     "name": "stdout",
     "text": "[[-0.78644231 -1.06419704 -1.88519838]]\n"
    }
   ],
   "source": [
    "import numpy as np\n",
    "\n",
    "# bias는 생략\n",
    "c = np.array([[1, 0, 0, 0, 0, 0, 0]]) # 입력층. 단어ID에 해당하는 원소는 1이고, 나머지는 0인 ONE-HOT VECTOR.\n",
    "W = np.random.randn(7,3) # weight\n",
    "h = np.dot(c, W) # 중간 노드\n",
    "print(h)"
   ]
  },
  {
   "cell_type": "code",
   "execution_count": 2,
   "metadata": {},
   "outputs": [
    {
     "output_type": "stream",
     "name": "stdout",
     "text": "[[ 2.12367396 -0.72416965 -1.58687127]]\n"
    }
   ],
   "source": [
    "# Matmul layer를 사용해서 다시 쓸 수 있다.\n",
    "class MatMul:\n",
    "    def __init__(self, W):\n",
    "        self.params = [W]\n",
    "        self.grads = [np.zeros_like(W)]\n",
    "        self.x = None\n",
    "\n",
    "    def forward(self, x):\n",
    "        W, = self.params\n",
    "        out = np.dot(x, W)\n",
    "        self.x = x\n",
    "        return out\n",
    "\n",
    "    def backward(self, dout):\n",
    "        W, = self.params\n",
    "        dx = np.dot(dout, W.T)\n",
    "        dW = np.dot(self.x.T, dout)\n",
    "        self.grads[0][...] = dW\n",
    "        return dx\n",
    "\n",
    "c = np.array([[1, 0, 0, 0, 0, 0, 0]]) # 입력층. 단어ID에 해당하는 원소는 1이고, 나머지는 0인 ONE-HOT VECTOR.\n",
    "W = np.random.randn(7,3) # weight\n",
    "layer = MatMul(W)\n",
    "h = layer.forward(c)\n",
    "print(h)"
   ]
  },
  {
   "cell_type": "markdown",
   "metadata": {},
   "source": [
    "## CBOW(Continuous Bag-of-words)\n",
    "이제 신경망을 만들어 보자. word2vec에서 쓰이는 CBOW(Continuous Bag-of-words)라고 쓰이는 모델을 사용할 것이다.\n",
    "\n",
    "사실 word2vec이라는 용어는 모델이 아니라, 프로그램의 이름이다. 정확히는 CBOW 모델과 skip-gram 모델이라는 두 가지 모델이 word2vec에 사용되는 신경망이다.\n",
    "\n",
    "CBOW 모델은, 문맥에서 타겟(가운데 단어)을 추측하는 것을 목적으로 한 신경망이다. CBOW 모델이 입력받는 것은 문맥(컨텍스트)이다. 이 컨텍스트는 `['i', 'love', 'you']`와 같은 단어의 리스트로 표현된다. 이를 one-hot 표현으로 바꿔 CBOW 모델이 처리할 수 있게 변환할 것이다.\n",
    "\n",
    "CBOW의 입력층은 문맥의 단어 개수에 따라 결정된다. 만약 문맥으로 N개의 단어를 다룬다면 입력층은 N개가 된다. 입력층에서 중간층의 변환은, 같은 Affine layer(weight: Win)에 의해 이루어진다. 그리고 중간층에서 출력층의 변환은 다른 Affine layer(weight: Wout)에 의해 이루어진다.\n",
    "\n",
    "중간층에 있는 뉴런은, 각 입력층의 변환값의 '평균'이다. 이 뉴런들의 가중치 자체가 단어의 분산표현이 된다는 것에 주의하자. 학습을 거듭할수록 문맥으로부터 출현하는 단어를 잘 추측하도록 각 단어의 분산표현이 갱신된다. 또한, 중간층의 뉴런 수를 입력층보다 줄이는 것이 중요하다. 단어를 예측할 때 필요한 정보를 컴팩트하게 저장할 필요가 있기 때문이다.\n",
    "\n",
    "또한, 출력층 뉴런들은 각 단어에 대응한다. 즉, 츌력층의 뉴런은 각 단어의 '스코어'이며, 이 스코어가 높을수록 대응하는 단어의 출현확률도 높아진다. 또한 스코어에 Softmax 함수를 적용하여 '확률'을 얻을 수 있다."
   ]
  },
  {
   "cell_type": "code",
   "execution_count": 3,
   "metadata": {},
   "outputs": [
    {
     "output_type": "stream",
     "name": "stdout",
     "text": "[[-1.25504528  2.0576921  -1.02357845 -0.85518541  0.32020726  1.85893387\n   0.1182449 ]]\n"
    }
   ],
   "source": [
    "# CBOW Model의 추론처리 방법\n",
    "c0 = np.array([[1, 0, 0, 0, 0, 0, 0]])\n",
    "c1 = np.array([[0, 0, 1, 0, 0, 0, 0]])\n",
    "\n",
    "# Weight Init\n",
    "W_in = np.random.randn(7, 3)\n",
    "W_out = np.random.randn(3, 7)\n",
    "\n",
    "# 레이어 생성\n",
    "in_layer0 = MatMul(W_in)\n",
    "in_layer1 = MatMul(W_in)\n",
    "out_layer = MatMul(W_out)\n",
    "\n",
    "# Forward Propagation\n",
    "h0 = in_layer0.forward(c0)\n",
    "h1 = in_layer1.forward(c1)\n",
    "h = (h0 + h1) / 2 # 레이어 2개를 더했으므로, 2로 나누어서 평균치를 구한다.\n",
    "s = out_layer.forward(h)\n",
    "\n",
    "print(s)"
   ]
  },
  {
   "cell_type": "markdown",
   "metadata": {},
   "source": [
    "## CBOW 모델의 학습\n",
    "CBOW모델은 코퍼스의 단어 출현패턴을 학습할 뿐이다. 따라서, 코퍼스가 달라지면, 학습으로 얻는 단어의 분산표현도 달라질 수 밖에 없다.\n",
    "\n",
    "여기서 우리가 다루는 모델은 클래스의 분류를 하는 신경망이다. 따라서, 학습하기 위해서는 Softmax와 Cross Entropy Error를 이용한다. 여기서는 스코어를 Softmax로 확률로 변환하고, 그 확률과 정답 라벨의 Cross Entropy Error를 구한다. 그리고 그 손실을 통해 학습을 진행한다.\n",
    "\n",
    "따라서 우리는 Softmax + Cross Entropy Error = Softmax with Loss를 구할 것이다.\n",
    "\n",
    "## Word2vec의 가중치와 분산표현\n",
    "word2vec에서 사용되는 신경망에는 2가지의 가중치가 존재한다. 하나는 입력층의 가중치(Win)과 출력층의 가중치(Wout)이다. 입력층의 가중치 Win의 각 행은 각 단어의 분산표현에 해당한다. 그리고 출력층의 가중치 Wout에도 단어의 의미가 인코딩된 벡터가 들어있다. 둘이 다른 건, 방향 뿐이다. \n",
    "\n",
    "그렇다면 이 두 가지 중에서 어떤 가중치를 쓸까? word2vec, 특히 skip-gram 모델에서는 입력층만을 이용한다. GloVe라는 방법은 두개의 가중치를 모두 이용한다.\n",
    "\n",
    "## Context와 Target\n",
    "자, 그럼 우리의 목표는 뭘까? Context가 주어질 때, Target이 출현하는 확률을 높이는 것이다. 그렇다면 코퍼스에서 Context와 Target을 우선 벡터로 따로 분리하는 작업을 진행해보자.\n",
    "\n",
    "\n",
    "\n",
    "\n"
   ]
  },
  {
   "cell_type": "code",
   "execution_count": 4,
   "metadata": {},
   "outputs": [
    {
     "output_type": "stream",
     "name": "stdout",
     "text": "[0 1 2 3 4 5 6 1 2 3 7 8]\n{0: 'i', 1: 'want', 2: 'to', 3: 'study', 4: 'python', 5: 'and', 6: 'you', 7: 'javascript', 8: '.'}\n"
    }
   ],
   "source": [
    "def preprocess(text):\n",
    "    text = text.lower()\n",
    "    text = text.replace('.', ' .')\n",
    "    words = text.split(' ')\n",
    "\n",
    "    word_to_id = {}\n",
    "    id_to_word = {}\n",
    "    for word in words:\n",
    "        if word not in word_to_id:\n",
    "            new_id = len(word_to_id)\n",
    "            word_to_id[word] = new_id\n",
    "            id_to_word[new_id] = word\n",
    "\n",
    "    corpus = np.array([word_to_id[w] for w in words])\n",
    "\n",
    "    return corpus, word_to_id, id_to_word\n",
    "\n",
    "text = \"I want to study Python and you want to study JavaScript.\"\n",
    "corpus, word_to_id, id_to_word = preprocess(text)\n",
    "print(corpus)\n",
    "\n",
    "print(id_to_word)"
   ]
  },
  {
   "cell_type": "code",
   "execution_count": 5,
   "metadata": {},
   "outputs": [
    {
     "output_type": "stream",
     "name": "stdout",
     "text": "[[0 2]\n [1 3]\n [2 4]\n [3 5]\n [4 6]\n [5 1]\n [6 2]\n [1 3]\n [2 7]\n [3 8]]\n[1 2 3 4 5 6 1 2 3 7]\n"
    }
   ],
   "source": [
    "# context와 target을 출력해보자. corpus가 [0,1,2,3]이라면\n",
    "# context는 [[0, 2], [1,3]], target은 [1, 2]로 출력하는 함수를 만들자.\n",
    "def create_contexts_target(corpus, window_size=1):\n",
    "    target = corpus[window_size:-window_size]\n",
    "    contexts = []\n",
    "\n",
    "    for idx in range(window_size, len(corpus)-window_size):\n",
    "        cs = []\n",
    "        for t in range(-window_size, window_size+1):\n",
    "            if t == 0:\n",
    "                continue\n",
    "            cs.append(corpus[idx + t])\n",
    "        contexts.append(cs)\n",
    "    \n",
    "    return np.array(contexts), np.array(target)\n",
    "\n",
    "contexts, target = create_contexts_target(corpus, window_size=1)\n",
    "print(contexts)\n",
    "\n",
    "print(target)"
   ]
  },
  {
   "cell_type": "code",
   "execution_count": 6,
   "metadata": {},
   "outputs": [],
   "source": [
    "# 이제 이 값들을 one-hot-vector로 바꿔서 CBOW 모델에 주자.\n",
    "def convert_one_hot(corpus, vocab_size):\n",
    "    \"\"\"\n",
    "    :param corpus: 단어ID 리스트(1 or 2차원의 numpy 배열)\n",
    "    :param vocab_size: 어휘수\n",
    "    :return: one-hot 배열(2 or 3차원의 numpy 배열)\n",
    "    \"\"\"\n",
    "    N = corpus.shape[0]\n",
    "\n",
    "    if corpus.ndim == 1:\n",
    "        one_hot = np.zeros((N, vocab_size), dtype=np.int32)\n",
    "        for idx, word_id in enumerate(corpus):\n",
    "            one_hot[idx, word_id] = 1\n",
    "    elif corpus.ndim == 2:\n",
    "        C = corpus.shape[1]\n",
    "        one_hot = np.zeros((N, C, vocab_size), dtype=np.int32)\n",
    "        for idx_0, word_ids in enumerate(corpus):\n",
    "            for idx_1, word_id in enumerate(word_ids):\n",
    "                one_hot[idx_0, idx_1, word_id] = 1\n",
    "\n",
    "    return one_hot\n",
    "\n",
    "# 위의 예제에서 계속.\n",
    "vocab_size = len(word_to_id)\n",
    "target = convert_one_hot(target, vocab_size)\n",
    "contexts = convert_one_hot(contexts, vocab_size)"
   ]
  },
  {
   "cell_type": "markdown",
   "metadata": {},
   "source": [
    "이제 학습 데이터의 준비는 끝났다. CBOW 모델을 실제 코드로 옮겨보자.\n",
    "먼저, SoftMaxWithLoss layer를 코드로 작성하자."
   ]
  },
  {
   "cell_type": "code",
   "execution_count": 7,
   "metadata": {},
   "outputs": [],
   "source": [
    "def softmax(x):\n",
    "    if x.ndim == 2:\n",
    "        x = x - x.max(axis=1, keepdims=True)\n",
    "        x = np.exp(x)\n",
    "        x /= x.sum(axis=1, keepdims=True)\n",
    "    elif x.ndim == 1:\n",
    "        x = x - np.max(x)\n",
    "        x = np.exp(x) / np.sum(np.exp(x))\n",
    "\n",
    "    return x\n",
    "\n",
    "def cross_entropy_error(y, t):\n",
    "    if y.ndim == 1:\n",
    "        t = t.reshape(1, t.size)\n",
    "        y = y.reshape(1, y.size)\n",
    "        \n",
    "    # 정답 데이터가 one-hot-vector일 때, 정답 라벨의 인덱스로 변환\n",
    "    if t.size == y.size:\n",
    "        t = t.argmax(axis=1)\n",
    "    \n",
    "    batch_size = y.shape[0]\n",
    "\n",
    "    return -np.sum(np.log(y[np.arange(batch_size), t] + 1e-7)) / batch_size\n",
    "\n",
    "class Adam:\n",
    "    def __init__(self, lr=0.001, beta1=0.9, beta2=0.999):\n",
    "        self.lr = lr\n",
    "        self.beta1 = beta1\n",
    "        self.beta2 = beta2\n",
    "        self.iter = 0\n",
    "        self.m = None\n",
    "        self.v = None\n",
    "\n",
    "    def update(self, params, grads):\n",
    "        if self.m is None:\n",
    "            self.m, self.v = [], []\n",
    "            for param in params:\n",
    "                self.m.append(np.zeros_like(param))\n",
    "                self.v.append(np.zeros_like(param))\n",
    "        \n",
    "        self.iter += 1\n",
    "        lr_t = self.lr * np.sqrt(1.0 - self.beta2**self.iter) / (1.0 - self.beta1**self.iter)\n",
    "\n",
    "        for i in range(len(params)):\n",
    "            self.m[i] += (1 - self.beta1) * (grads[i] - self.m[i])\n",
    "            self.v[i] += (1 - self.beta2) * (grads[i]**2 - self.v[i])\n",
    "\n",
    "            params[i] -= lr_t * self.m[i] / (np.sqrt(self.v[i]) + 1e-7)\n",
    "\n",
    "class SoftmaxWithLoss:\n",
    "    def __init__(self):\n",
    "        self.params, self.grads = [], []\n",
    "        self.y = None # softmax 출력\n",
    "        self.t = None # 정답라벨\n",
    "\n",
    "    def forward(self, x, t):\n",
    "        self.t = t\n",
    "        self.y = softmax(x)\n",
    "\n",
    "        # 정답 라벨이 one-hot 벡터일 때, 정답의 인덱스로 변환\n",
    "        if self.t.size == self.y.size:\n",
    "            self.t = self.t.argmax(axis=1)\n",
    "\n",
    "        loss = cross_entropy_error(self.y, self.t)\n",
    "        return loss\n",
    "\n",
    "    def backward(self, dout=1):\n",
    "        batch_size = self.t.shape[0]\n",
    "\n",
    "        dx = self.y.copy()\n",
    "        dx[np.arange(batch_size), self.t] -= 1\n",
    "        dx *= dout\n",
    "        dx /= batch_size\n",
    "\n",
    "        return dx"
   ]
  },
  {
   "cell_type": "code",
   "execution_count": 9,
   "metadata": {
    "tags": [
     "outputPrepend",
     "outputPrepend",
     "outputPrepend",
     "outputPrepend",
     "outputPrepend",
     "outputPrepend",
     "outputPrepend"
    ]
   },
   "outputs": [
    {
     "output_type": "stream",
     "name": "stdout",
     "text": " epoch 601 |  iter 1 / 2 | time 1[s] | loss 0.76\n| epoch 602 |  iter 1 / 2 | time 1[s] | loss 0.49\n| epoch 603 |  iter 1 / 2 | time 1[s] | loss 0.91\n| epoch 604 |  iter 1 / 2 | time 1[s] | loss 0.70\n| epoch 605 |  iter 1 / 2 | time 1[s] | loss 0.56\n| epoch 606 |  iter 1 / 2 | time 1[s] | loss 0.90\n| epoch 607 |  iter 1 / 2 | time 1[s] | loss 0.62\n| epoch 608 |  iter 1 / 2 | time 1[s] | loss 0.69\n| epoch 609 |  iter 1 / 2 | time 1[s] | loss 0.70\n| epoch 610 |  iter 1 / 2 | time 1[s] | loss 0.69\n| epoch 611 |  iter 1 / 2 | time 1[s] | loss 0.62\n| epoch 612 |  iter 1 / 2 | time 1[s] | loss 0.77\n| epoch 613 |  iter 1 / 2 | time 1[s] | loss 0.63\n| epoch 614 |  iter 1 / 2 | time 1[s] | loss 0.75\n| epoch 615 |  iter 1 / 2 | time 1[s] | loss 0.63\n| epoch 616 |  iter 1 / 2 | time 1[s] | loss 0.75\n| epoch 617 |  iter 1 / 2 | time 1[s] | loss 0.56\n| epoch 618 |  iter 1 / 2 | time 1[s] | loss 0.76\n| epoch 619 |  iter 1 / 2 | time 1[s] | loss 0.82\n| epoch 620 |  iter 1 / 2 | time 1[s] | loss 0.48\n| epoch 621 |  iter 1 / 2 | time 1[s] | loss 0.74\n| epoch 622 |  iter 1 / 2 | time 1[s] | loss 0.63\n| epoch 623 |  iter 1 / 2 | time 1[s] | loss 0.61\n| epoch 624 |  iter 1 / 2 | time 1[s] | loss 0.82\n| epoch 625 |  iter 1 / 2 | time 1[s] | loss 0.69\n| epoch 626 |  iter 1 / 2 | time 1[s] | loss 0.70\n| epoch 627 |  iter 1 / 2 | time 1[s] | loss 0.69\n| epoch 628 |  iter 1 / 2 | time 1[s] | loss 0.67\n| epoch 629 |  iter 1 / 2 | time 1[s] | loss 0.55\n| epoch 630 |  iter 1 / 2 | time 1[s] | loss 0.76\n| epoch 631 |  iter 1 / 2 | time 1[s] | loss 0.68\n| epoch 632 |  iter 1 / 2 | time 1[s] | loss 0.82\n| epoch 633 |  iter 1 / 2 | time 1[s] | loss 0.62\n| epoch 634 |  iter 1 / 2 | time 1[s] | loss 0.82\n| epoch 635 |  iter 1 / 2 | time 1[s] | loss 0.53\n| epoch 636 |  iter 1 / 2 | time 1[s] | loss 0.62\n| epoch 637 |  iter 1 / 2 | time 1[s] | loss 0.68\n| epoch 638 |  iter 1 / 2 | time 1[s] | loss 0.82\n| epoch 639 |  iter 1 / 2 | time 1[s] | loss 0.68\n| epoch 640 |  iter 1 / 2 | time 1[s] | loss 0.62\n| epoch 641 |  iter 1 / 2 | time 1[s] | loss 0.61\n| epoch 642 |  iter 1 / 2 | time 1[s] | loss 0.75\n| epoch 643 |  iter 1 / 2 | time 1[s] | loss 0.66\n| epoch 644 |  iter 1 / 2 | time 1[s] | loss 0.76\n| epoch 645 |  iter 1 / 2 | time 1[s] | loss 0.61\n| epoch 646 |  iter 1 / 2 | time 1[s] | loss 0.69\n| epoch 647 |  iter 1 / 2 | time 1[s] | loss 0.66\n| epoch 648 |  iter 1 / 2 | time 1[s] | loss 0.67\n| epoch 649 |  iter 1 / 2 | time 1[s] | loss 0.70\n| epoch 650 |  iter 1 / 2 | time 1[s] | loss 0.60\n| epoch 651 |  iter 1 / 2 | time 1[s] | loss 0.67\n| epoch 652 |  iter 1 / 2 | time 1[s] | loss 0.59\n| epoch 653 |  iter 1 / 2 | time 1[s] | loss 0.75\n| epoch 654 |  iter 1 / 2 | time 1[s] | loss 0.67\n| epoch 655 |  iter 1 / 2 | time 1[s] | loss 0.67\n| epoch 656 |  iter 1 / 2 | time 1[s] | loss 0.76\n| epoch 657 |  iter 1 / 2 | time 1[s] | loss 0.67\n| epoch 658 |  iter 1 / 2 | time 1[s] | loss 0.67\n| epoch 659 |  iter 1 / 2 | time 1[s] | loss 0.81\n| epoch 660 |  iter 1 / 2 | time 1[s] | loss 0.53\n| epoch 661 |  iter 1 / 2 | time 1[s] | loss 0.74\n| epoch 662 |  iter 1 / 2 | time 1[s] | loss 0.52\n| epoch 663 |  iter 1 / 2 | time 1[s] | loss 0.68\n| epoch 664 |  iter 1 / 2 | time 1[s] | loss 0.73\n| epoch 665 |  iter 1 / 2 | time 1[s] | loss 0.59\n| epoch 666 |  iter 1 / 2 | time 1[s] | loss 0.82\n| epoch 667 |  iter 1 / 2 | time 1[s] | loss 0.52\n| epoch 668 |  iter 1 / 2 | time 1[s] | loss 0.59\n| epoch 669 |  iter 1 / 2 | time 1[s] | loss 0.74\n| epoch 670 |  iter 1 / 2 | time 1[s] | loss 0.68\n| epoch 671 |  iter 1 / 2 | time 1[s] | loss 0.67\n| epoch 672 |  iter 1 / 2 | time 1[s] | loss 0.74\n| epoch 673 |  iter 1 / 2 | time 1[s] | loss 0.51\n| epoch 674 |  iter 1 / 2 | time 1[s] | loss 0.74\n| epoch 675 |  iter 1 / 2 | time 1[s] | loss 0.66\n| epoch 676 |  iter 1 / 2 | time 1[s] | loss 0.59\n| epoch 677 |  iter 1 / 2 | time 1[s] | loss 0.74\n| epoch 678 |  iter 1 / 2 | time 1[s] | loss 0.66\n| epoch 679 |  iter 1 / 2 | time 1[s] | loss 0.68\n| epoch 680 |  iter 1 / 2 | time 1[s] | loss 0.65\n| epoch 681 |  iter 1 / 2 | time 1[s] | loss 0.80\n| epoch 682 |  iter 1 / 2 | time 1[s] | loss 0.61\n| epoch 683 |  iter 1 / 2 | time 1[s] | loss 0.57\n| epoch 684 |  iter 1 / 2 | time 1[s] | loss 0.81\n| epoch 685 |  iter 1 / 2 | time 1[s] | loss 0.53\n| epoch 686 |  iter 1 / 2 | time 1[s] | loss 0.64\n| epoch 687 |  iter 1 / 2 | time 1[s] | loss 0.66\n| epoch 688 |  iter 1 / 2 | time 1[s] | loss 0.66\n| epoch 689 |  iter 1 / 2 | time 1[s] | loss 0.66\n| epoch 690 |  iter 1 / 2 | time 1[s] | loss 0.59\n| epoch 691 |  iter 1 / 2 | time 1[s] | loss 0.73\n| epoch 692 |  iter 1 / 2 | time 1[s] | loss 0.72\n| epoch 693 |  iter 1 / 2 | time 1[s] | loss 0.67\n| epoch 694 |  iter 1 / 2 | time 1[s] | loss 0.59\n| epoch 695 |  iter 1 / 2 | time 1[s] | loss 0.66\n| epoch 696 |  iter 1 / 2 | time 1[s] | loss 0.66\n| epoch 697 |  iter 1 / 2 | time 1[s] | loss 0.58\n| epoch 698 |  iter 1 / 2 | time 1[s] | loss 0.73\n| epoch 699 |  iter 1 / 2 | time 1[s] | loss 0.67\n| epoch 700 |  iter 1 / 2 | time 1[s] | loss 0.64\n| epoch 701 |  iter 1 / 2 | time 1[s] | loss 0.72\n| epoch 702 |  iter 1 / 2 | time 1[s] | loss 0.73\n| epoch 703 |  iter 1 / 2 | time 1[s] | loss 0.54\n| epoch 704 |  iter 1 / 2 | time 1[s] | loss 0.86\n| epoch 705 |  iter 1 / 2 | time 1[s] | loss 0.45\n| epoch 706 |  iter 1 / 2 | time 1[s] | loss 0.72\n| epoch 707 |  iter 1 / 2 | time 1[s] | loss 0.59\n| epoch 708 |  iter 1 / 2 | time 1[s] | loss 0.79\n| epoch 709 |  iter 1 / 2 | time 1[s] | loss 0.50\n| epoch 710 |  iter 1 / 2 | time 1[s] | loss 0.80\n| epoch 711 |  iter 1 / 2 | time 1[s] | loss 0.50\n| epoch 712 |  iter 1 / 2 | time 1[s] | loss 0.88\n| epoch 713 |  iter 1 / 2 | time 1[s] | loss 0.43\n| epoch 714 |  iter 1 / 2 | time 1[s] | loss 0.74\n| epoch 715 |  iter 1 / 2 | time 1[s] | loss 0.71\n| epoch 716 |  iter 1 / 2 | time 1[s] | loss 0.51\n| epoch 717 |  iter 1 / 2 | time 1[s] | loss 0.72\n| epoch 718 |  iter 1 / 2 | time 1[s] | loss 0.64\n| epoch 719 |  iter 1 / 2 | time 1[s] | loss 0.56\n| epoch 720 |  iter 1 / 2 | time 1[s] | loss 0.67\n| epoch 721 |  iter 1 / 2 | time 1[s] | loss 0.78\n| epoch 722 |  iter 1 / 2 | time 1[s] | loss 0.56\n| epoch 723 |  iter 1 / 2 | time 1[s] | loss 0.67\n| epoch 724 |  iter 1 / 2 | time 1[s] | loss 0.65\n| epoch 725 |  iter 1 / 2 | time 1[s] | loss 0.69\n| epoch 726 |  iter 1 / 2 | time 1[s] | loss 0.57\n| epoch 727 |  iter 1 / 2 | time 1[s] | loss 0.74\n| epoch 728 |  iter 1 / 2 | time 1[s] | loss 0.64\n| epoch 729 |  iter 1 / 2 | time 1[s] | loss 0.49\n| epoch 730 |  iter 1 / 2 | time 1[s] | loss 0.87\n| epoch 731 |  iter 1 / 2 | time 1[s] | loss 0.42\n| epoch 732 |  iter 1 / 2 | time 1[s] | loss 0.66\n| epoch 733 |  iter 1 / 2 | time 1[s] | loss 0.69\n| epoch 734 |  iter 1 / 2 | time 1[s] | loss 0.58\n| epoch 735 |  iter 1 / 2 | time 1[s] | loss 0.78\n| epoch 736 |  iter 1 / 2 | time 1[s] | loss 0.57\n| epoch 737 |  iter 1 / 2 | time 1[s] | loss 0.80\n| epoch 738 |  iter 1 / 2 | time 1[s] | loss 0.57\n| epoch 739 |  iter 1 / 2 | time 1[s] | loss 0.62\n| epoch 740 |  iter 1 / 2 | time 1[s] | loss 0.51\n| epoch 741 |  iter 1 / 2 | time 1[s] | loss 0.80\n| epoch 742 |  iter 1 / 2 | time 1[s] | loss 0.50\n| epoch 743 |  iter 1 / 2 | time 1[s] | loss 0.71\n| epoch 744 |  iter 1 / 2 | time 1[s] | loss 0.64\n| epoch 745 |  iter 1 / 2 | time 1[s] | loss 0.55\n| epoch 746 |  iter 1 / 2 | time 1[s] | loss 0.73\n| epoch 747 |  iter 1 / 2 | time 1[s] | loss 0.71\n| epoch 748 |  iter 1 / 2 | time 1[s] | loss 0.62\n| epoch 749 |  iter 1 / 2 | time 1[s] | loss 0.66\n| epoch 750 |  iter 1 / 2 | time 1[s] | loss 0.48\n| epoch 751 |  iter 1 / 2 | time 1[s] | loss 0.77\n| epoch 752 |  iter 1 / 2 | time 1[s] | loss 0.59\n| epoch 753 |  iter 1 / 2 | time 1[s] | loss 0.57\n| epoch 754 |  iter 1 / 2 | time 1[s] | loss 0.68\n| epoch 755 |  iter 1 / 2 | time 1[s] | loss 0.59\n| epoch 756 |  iter 1 / 2 | time 1[s] | loss 0.77\n| epoch 757 |  iter 1 / 2 | time 1[s] | loss 0.63\n| epoch 758 |  iter 1 / 2 | time 1[s] | loss 0.63\n| epoch 759 |  iter 1 / 2 | time 1[s] | loss 0.71\n| epoch 760 |  iter 1 / 2 | time 1[s] | loss 0.56\n| epoch 761 |  iter 1 / 2 | time 1[s] | loss 0.47\n| epoch 762 |  iter 1 / 2 | time 1[s] | loss 0.66\n| epoch 763 |  iter 1 / 2 | time 1[s] | loss 0.61\n| epoch 764 |  iter 1 / 2 | time 1[s] | loss 0.63\n| epoch 765 |  iter 1 / 2 | time 1[s] | loss 0.72\n| epoch 766 |  iter 1 / 2 | time 1[s] | loss 0.70\n| epoch 767 |  iter 1 / 2 | time 1[s] | loss 0.70\n| epoch 768 |  iter 1 / 2 | time 1[s] | loss 0.43\n| epoch 769 |  iter 1 / 2 | time 1[s] | loss 0.68\n| epoch 770 |  iter 1 / 2 | time 1[s] | loss 0.66\n| epoch 771 |  iter 1 / 2 | time 1[s] | loss 0.63\n| epoch 772 |  iter 1 / 2 | time 1[s] | loss 0.61\n| epoch 773 |  iter 1 / 2 | time 1[s] | loss 0.70\n| epoch 774 |  iter 1 / 2 | time 1[s] | loss 0.59\n| epoch 775 |  iter 1 / 2 | time 1[s] | loss 0.67\n| epoch 776 |  iter 1 / 2 | time 1[s] | loss 0.49\n| epoch 777 |  iter 1 / 2 | time 1[s] | loss 0.72\n| epoch 778 |  iter 1 / 2 | time 1[s] | loss 0.70\n| epoch 779 |  iter 1 / 2 | time 1[s] | loss 0.49\n| epoch 780 |  iter 1 / 2 | time 1[s] | loss 0.77\n| epoch 781 |  iter 1 / 2 | time 1[s] | loss 0.63\n| epoch 782 |  iter 1 / 2 | time 1[s] | loss 0.63\n| epoch 783 |  iter 1 / 2 | time 1[s] | loss 0.70\n| epoch 784 |  iter 1 / 2 | time 1[s] | loss 0.53\n| epoch 785 |  iter 1 / 2 | time 1[s] | loss 0.63\n| epoch 786 |  iter 1 / 2 | time 1[s] | loss 0.65\n| epoch 787 |  iter 1 / 2 | time 1[s] | loss 0.53\n| epoch 788 |  iter 1 / 2 | time 1[s] | loss 0.59\n| epoch 789 |  iter 1 / 2 | time 1[s] | loss 0.83\n| epoch 790 |  iter 1 / 2 | time 1[s] | loss 0.46\n| epoch 791 |  iter 1 / 2 | time 1[s] | loss 0.56\n| epoch 792 |  iter 1 / 2 | time 1[s] | loss 0.72\n| epoch 793 |  iter 1 / 2 | time 1[s] | loss 0.56\n| epoch 794 |  iter 1 / 2 | time 1[s] | loss 0.67\n| epoch 795 |  iter 1 / 2 | time 1[s] | loss 0.65\n| epoch 796 |  iter 1 / 2 | time 1[s] | loss 0.66\n| epoch 797 |  iter 1 / 2 | time 1[s] | loss 0.62\n| epoch 798 |  iter 1 / 2 | time 1[s] | loss 0.56\n| epoch 799 |  iter 1 / 2 | time 1[s] | loss 0.55\n| epoch 800 |  iter 1 / 2 | time 1[s] | loss 0.62\n| epoch 801 |  iter 1 / 2 | time 1[s] | loss 0.62\n| epoch 802 |  iter 1 / 2 | time 1[s] | loss 0.62\n| epoch 803 |  iter 1 / 2 | time 1[s] | loss 0.76\n| epoch 804 |  iter 1 / 2 | time 1[s] | loss 0.51\n| epoch 805 |  iter 1 / 2 | time 1[s] | loss 0.69\n| epoch 806 |  iter 1 / 2 | time 1[s] | loss 0.45\n| epoch 807 |  iter 1 / 2 | time 1[s] | loss 0.62\n| epoch 808 |  iter 1 / 2 | time 1[s] | loss 0.69\n| epoch 809 |  iter 1 / 2 | time 1[s] | loss 0.69\n| epoch 810 |  iter 1 / 2 | time 1[s] | loss 0.72\n| epoch 811 |  iter 1 / 2 | time 1[s] | loss 0.69\n| epoch 812 |  iter 1 / 2 | time 1[s] | loss 0.38\n| epoch 813 |  iter 1 / 2 | time 1[s] | loss 0.72\n| epoch 814 |  iter 1 / 2 | time 1[s] | loss 0.66\n| epoch 815 |  iter 1 / 2 | time 1[s] | loss 0.65\n| epoch 816 |  iter 1 / 2 | time 1[s] | loss 0.55\n| epoch 817 |  iter 1 / 2 | time 1[s] | loss 0.76\n| epoch 818 |  iter 1 / 2 | time 1[s] | loss 0.38\n| epoch 819 |  iter 1 / 2 | time 1[s] | loss 0.62\n| epoch 820 |  iter 1 / 2 | time 1[s] | loss 0.62\n| epoch 821 |  iter 1 / 2 | time 1[s] | loss 0.62\n| epoch 822 |  iter 1 / 2 | time 1[s] | loss 0.62\n| epoch 823 |  iter 1 / 2 | time 1[s] | loss 0.62\n| epoch 824 |  iter 1 / 2 | time 1[s] | loss 0.71\n| epoch 825 |  iter 1 / 2 | time 1[s] | loss 0.69\n| epoch 826 |  iter 1 / 2 | time 1[s] | loss 0.38\n| epoch 827 |  iter 1 / 2 | time 1[s] | loss 0.78\n| epoch 828 |  iter 1 / 2 | time 1[s] | loss 0.62\n| epoch 829 |  iter 1 / 2 | time 1[s] | loss 0.61\n| epoch 830 |  iter 1 / 2 | time 1[s] | loss 0.58\n| epoch 831 |  iter 1 / 2 | time 1[s] | loss 0.55\n| epoch 832 |  iter 1 / 2 | time 1[s] | loss 0.71\n| epoch 833 |  iter 1 / 2 | time 1[s] | loss 0.58\n| epoch 834 |  iter 1 / 2 | time 1[s] | loss 0.57\n| epoch 835 |  iter 1 / 2 | time 1[s] | loss 0.65\n| epoch 836 |  iter 1 / 2 | time 1[s] | loss 0.68\n| epoch 837 |  iter 1 / 2 | time 1[s] | loss 0.47\n| epoch 838 |  iter 1 / 2 | time 1[s] | loss 0.71\n| epoch 839 |  iter 1 / 2 | time 1[s] | loss 0.54\n| epoch 840 |  iter 1 / 2 | time 1[s] | loss 0.75\n| epoch 841 |  iter 1 / 2 | time 1[s] | loss 0.54\n| epoch 842 |  iter 1 / 2 | time 1[s] | loss 0.58\n| epoch 843 |  iter 1 / 2 | time 1[s] | loss 0.57\n| epoch 844 |  iter 1 / 2 | time 1[s] | loss 0.68\n| epoch 845 |  iter 1 / 2 | time 1[s] | loss 0.51\n| epoch 846 |  iter 1 / 2 | time 1[s] | loss 0.78\n| epoch 847 |  iter 1 / 2 | time 1[s] | loss 0.58\n| epoch 848 |  iter 1 / 2 | time 1[s] | loss 0.50\n| epoch 849 |  iter 1 / 2 | time 1[s] | loss 0.61\n| epoch 850 |  iter 1 / 2 | time 1[s] | loss 0.82\n| epoch 851 |  iter 1 / 2 | time 1[s] | loss 0.37\n| epoch 852 |  iter 1 / 2 | time 1[s] | loss 0.78\n| epoch 853 |  iter 1 / 2 | time 1[s] | loss 0.61\n| epoch 854 |  iter 1 / 2 | time 1[s] | loss 0.54\n| epoch 855 |  iter 1 / 2 | time 1[s] | loss 0.54\n| epoch 856 |  iter 1 / 2 | time 1[s] | loss 0.58\n| epoch 857 |  iter 1 / 2 | time 1[s] | loss 0.61\n| epoch 858 |  iter 1 / 2 | time 1[s] | loss 0.61\n| epoch 859 |  iter 1 / 2 | time 1[s] | loss 0.85\n| epoch 860 |  iter 1 / 2 | time 1[s] | loss 0.40\n| epoch 861 |  iter 1 / 2 | time 1[s] | loss 0.68\n| epoch 862 |  iter 1 / 2 | time 1[s] | loss 0.58\n| epoch 863 |  iter 1 / 2 | time 1[s] | loss 0.71\n| epoch 864 |  iter 1 / 2 | time 1[s] | loss 0.51\n| epoch 865 |  iter 1 / 2 | time 1[s] | loss 0.61\n| epoch 866 |  iter 1 / 2 | time 1[s] | loss 0.71\n| epoch 867 |  iter 1 / 2 | time 1[s] | loss 0.44\n| epoch 868 |  iter 1 / 2 | time 1[s] | loss 0.68\n| epoch 869 |  iter 1 / 2 | time 1[s] | loss 0.67\n| epoch 870 |  iter 1 / 2 | time 1[s] | loss 0.57\n| epoch 871 |  iter 1 / 2 | time 1[s] | loss 0.50\n| epoch 872 |  iter 1 / 2 | time 1[s] | loss 0.78\n| epoch 873 |  iter 1 / 2 | time 1[s] | loss 0.43\n| epoch 874 |  iter 1 / 2 | time 1[s] | loss 0.60\n| epoch 875 |  iter 1 / 2 | time 1[s] | loss 0.64\n| epoch 876 |  iter 1 / 2 | time 1[s] | loss 0.57\n| epoch 877 |  iter 1 / 2 | time 1[s] | loss 0.78\n| epoch 878 |  iter 1 / 2 | time 1[s] | loss 0.36\n| epoch 879 |  iter 1 / 2 | time 1[s] | loss 0.67\n| epoch 880 |  iter 1 / 2 | time 1[s] | loss 0.67\n| epoch 881 |  iter 1 / 2 | time 1[s] | loss 0.64\n| epoch 882 |  iter 1 / 2 | time 1[s] | loss 0.60\n| epoch 883 |  iter 1 / 2 | time 1[s] | loss 0.60\n| epoch 884 |  iter 1 / 2 | time 1[s] | loss 0.53\n| epoch 885 |  iter 1 / 2 | time 1[s] | loss 0.57\n| epoch 886 |  iter 1 / 2 | time 1[s] | loss 0.70\n| epoch 887 |  iter 1 / 2 | time 1[s] | loss 0.64\n| epoch 888 |  iter 1 / 2 | time 1[s] | loss 0.53\n| epoch 889 |  iter 1 / 2 | time 1[s] | loss 0.77\n| epoch 890 |  iter 1 / 2 | time 1[s] | loss 0.50\n| epoch 891 |  iter 1 / 2 | time 1[s] | loss 0.63\n| epoch 892 |  iter 1 / 2 | time 1[s] | loss 0.46\n| epoch 893 |  iter 1 / 2 | time 1[s] | loss 0.64\n| epoch 894 |  iter 1 / 2 | time 1[s] | loss 0.56\n| epoch 895 |  iter 1 / 2 | time 1[s] | loss 0.60\n| epoch 896 |  iter 1 / 2 | time 1[s] | loss 0.50\n| epoch 897 |  iter 1 / 2 | time 1[s] | loss 0.84\n| epoch 898 |  iter 1 / 2 | time 1[s] | loss 0.50\n| epoch 899 |  iter 1 / 2 | time 1[s] | loss 0.70\n| epoch 900 |  iter 1 / 2 | time 1[s] | loss 0.50\n| epoch 901 |  iter 1 / 2 | time 1[s] | loss 0.63\n| epoch 902 |  iter 1 / 2 | time 1[s] | loss 0.57\n| epoch 903 |  iter 1 / 2 | time 1[s] | loss 0.56\n| epoch 904 |  iter 1 / 2 | time 1[s] | loss 0.60\n| epoch 905 |  iter 1 / 2 | time 1[s] | loss 0.74\n| epoch 906 |  iter 1 / 2 | time 1[s] | loss 0.53\n| epoch 907 |  iter 1 / 2 | time 1[s] | loss 0.67\n| epoch 908 |  iter 1 / 2 | time 1[s] | loss 0.60\n| epoch 909 |  iter 1 / 2 | time 1[s] | loss 0.60\n| epoch 910 |  iter 1 / 2 | time 1[s] | loss 0.46\n| epoch 911 |  iter 1 / 2 | time 1[s] | loss 0.56\n| epoch 912 |  iter 1 / 2 | time 1[s] | loss 0.60\n| epoch 913 |  iter 1 / 2 | time 1[s] | loss 0.67\n| epoch 914 |  iter 1 / 2 | time 1[s] | loss 0.70\n| epoch 915 |  iter 1 / 2 | time 1[s] | loss 0.49\n| epoch 916 |  iter 1 / 2 | time 1[s] | loss 0.70\n| epoch 917 |  iter 1 / 2 | time 1[s] | loss 0.53\n| epoch 918 |  iter 1 / 2 | time 1[s] | loss 0.66\n| epoch 919 |  iter 1 / 2 | time 1[s] | loss 0.59\n| epoch 920 |  iter 1 / 2 | time 1[s] | loss 0.35\n| epoch 921 |  iter 1 / 2 | time 1[s] | loss 0.81\n| epoch 922 |  iter 1 / 2 | time 1[s] | loss 0.49\n| epoch 923 |  iter 1 / 2 | time 1[s] | loss 0.59\n| epoch 924 |  iter 1 / 2 | time 1[s] | loss 0.70\n| epoch 925 |  iter 1 / 2 | time 1[s] | loss 0.59\n| epoch 926 |  iter 1 / 2 | time 1[s] | loss 0.63\n| epoch 927 |  iter 1 / 2 | time 1[s] | loss 0.49\n| epoch 928 |  iter 1 / 2 | time 1[s] | loss 0.63\n| epoch 929 |  iter 1 / 2 | time 1[s] | loss 0.56\n| epoch 930 |  iter 1 / 2 | time 1[s] | loss 0.77\n| epoch 931 |  iter 1 / 2 | time 1[s] | loss 0.35\n| epoch 932 |  iter 1 / 2 | time 1[s] | loss 0.63\n| epoch 933 |  iter 1 / 2 | time 1[s] | loss 0.56\n| epoch 934 |  iter 1 / 2 | time 1[s] | loss 0.66\n| epoch 935 |  iter 1 / 2 | time 1[s] | loss 0.52\n| epoch 936 |  iter 1 / 2 | time 1[s] | loss 0.59\n| epoch 937 |  iter 1 / 2 | time 1[s] | loss 0.63\n| epoch 938 |  iter 1 / 2 | time 1[s] | loss 0.66\n| epoch 939 |  iter 1 / 2 | time 1[s] | loss 0.48\n| epoch 940 |  iter 1 / 2 | time 1[s] | loss 0.59\n| epoch 941 |  iter 1 / 2 | time 1[s] | loss 0.77\n| epoch 942 |  iter 1 / 2 | time 1[s] | loss 0.52\n| epoch 943 |  iter 1 / 2 | time 1[s] | loss 0.73\n| epoch 944 |  iter 1 / 2 | time 1[s] | loss 0.38\n| epoch 945 |  iter 1 / 2 | time 1[s] | loss 0.62\n| epoch 946 |  iter 1 / 2 | time 1[s] | loss 0.52\n| epoch 947 |  iter 1 / 2 | time 1[s] | loss 0.69\n| epoch 948 |  iter 1 / 2 | time 1[s] | loss 0.52\n| epoch 949 |  iter 1 / 2 | time 1[s] | loss 0.73\n| epoch 950 |  iter 1 / 2 | time 1[s] | loss 0.48\n| epoch 951 |  iter 1 / 2 | time 1[s] | loss 0.52\n| epoch 952 |  iter 1 / 2 | time 1[s] | loss 0.59\n| epoch 953 |  iter 1 / 2 | time 1[s] | loss 0.66\n| epoch 954 |  iter 1 / 2 | time 1[s] | loss 0.59\n| epoch 955 |  iter 1 / 2 | time 1[s] | loss 0.69\n| epoch 956 |  iter 1 / 2 | time 1[s] | loss 0.41\n| epoch 957 |  iter 1 / 2 | time 1[s] | loss 0.73\n| epoch 958 |  iter 1 / 2 | time 1[s] | loss 0.62\n| epoch 959 |  iter 1 / 2 | time 1[s] | loss 0.41\n| epoch 960 |  iter 1 / 2 | time 1[s] | loss 0.76\n| epoch 961 |  iter 1 / 2 | time 1[s] | loss 0.41\n| epoch 962 |  iter 1 / 2 | time 1[s] | loss 0.76\n| epoch 963 |  iter 1 / 2 | time 1[s] | loss 0.51\n| epoch 964 |  iter 1 / 2 | time 1[s] | loss 0.62\n| epoch 965 |  iter 1 / 2 | time 1[s] | loss 0.44\n| epoch 966 |  iter 1 / 2 | time 1[s] | loss 0.69\n| epoch 967 |  iter 1 / 2 | time 1[s] | loss 0.66\n| epoch 968 |  iter 1 / 2 | time 1[s] | loss 0.41\n| epoch 969 |  iter 1 / 2 | time 1[s] | loss 0.73\n| epoch 970 |  iter 1 / 2 | time 1[s] | loss 0.44\n| epoch 971 |  iter 1 / 2 | time 1[s] | loss 0.66\n| epoch 972 |  iter 1 / 2 | time 1[s] | loss 0.51\n| epoch 973 |  iter 1 / 2 | time 1[s] | loss 0.76\n| epoch 974 |  iter 1 / 2 | time 1[s] | loss 0.58\n| epoch 975 |  iter 1 / 2 | time 1[s] | loss 0.51\n| epoch 976 |  iter 1 / 2 | time 1[s] | loss 0.58\n| epoch 977 |  iter 1 / 2 | time 1[s] | loss 0.48\n| epoch 978 |  iter 1 / 2 | time 1[s] | loss 0.69\n| epoch 979 |  iter 1 / 2 | time 1[s] | loss 0.51\n| epoch 980 |  iter 1 / 2 | time 1[s] | loss 0.66\n| epoch 981 |  iter 1 / 2 | time 1[s] | loss 0.47\n| epoch 982 |  iter 1 / 2 | time 1[s] | loss 0.76\n| epoch 983 |  iter 1 / 2 | time 1[s] | loss 0.51\n| epoch 984 |  iter 1 / 2 | time 1[s] | loss 0.51\n| epoch 985 |  iter 1 / 2 | time 1[s] | loss 0.73\n| epoch 986 |  iter 1 / 2 | time 1[s] | loss 0.48\n| epoch 987 |  iter 1 / 2 | time 1[s] | loss 0.69\n| epoch 988 |  iter 1 / 2 | time 1[s] | loss 0.58\n| epoch 989 |  iter 1 / 2 | time 1[s] | loss 0.55\n| epoch 990 |  iter 1 / 2 | time 1[s] | loss 0.58\n| epoch 991 |  iter 1 / 2 | time 1[s] | loss 0.44\n| epoch 992 |  iter 1 / 2 | time 1[s] | loss 0.76\n| epoch 993 |  iter 1 / 2 | time 1[s] | loss 0.47\n| epoch 994 |  iter 1 / 2 | time 1[s] | loss 0.58\n| epoch 995 |  iter 1 / 2 | time 1[s] | loss 0.62\n| epoch 996 |  iter 1 / 2 | time 1[s] | loss 0.40\n| epoch 997 |  iter 1 / 2 | time 1[s] | loss 0.65\n| epoch 998 |  iter 1 / 2 | time 1[s] | loss 0.58\n| epoch 999 |  iter 1 / 2 | time 1[s] | loss 0.58\n| epoch 1000 |  iter 1 / 2 | time 1[s] | loss 0.58\n"
    }
   ],
   "source": [
    "class SimpleCBOW:\n",
    "    def __init__(self, vocab_size, hidden_size):\n",
    "        V, H = vocab_size, hidden_size\n",
    "\n",
    "        # parameter의 초기화\n",
    "        W_in = 0.01 * np.random.randn(V, H).astype('f') # float32형으로\n",
    "        W_out = 0.01 * np.random.randn(H, V).astype('f')\n",
    "\n",
    "        # 레이어 생성\n",
    "        self.in_layer0 = MatMul(W_in)\n",
    "        self.in_layer1 = MatMul(W_in)\n",
    "        self.out_layer = MatMul(W_out)\n",
    "        self.loss_layer = SoftmaxWithLoss()\n",
    "\n",
    "        # 모든 가중치와 grad를 리스트에 모음\n",
    "        layers = [self.in_layer0, self.in_layer1, self.out_layer]\n",
    "        self.params, self.grads = [], []\n",
    "        for layer in layers:\n",
    "            self.params += layer.params\n",
    "            self.grads += layer.grads\n",
    "        \n",
    "        # 멤버 변수에 단어의 분산표현을 설정\n",
    "        self.word_vecs = W_in\n",
    "\n",
    "    def forward(self, contexts, target):\n",
    "        h0 = self.in_layer0.forward(contexts[:, 0])\n",
    "        h1 = self.in_layer1.forward(contexts[:, 1])\n",
    "        h = (h0 + h1) / 2\n",
    "        score = self.out_layer.forward(h)\n",
    "        loss = self.loss_layer.forward(score, target)\n",
    "        return loss\n",
    "\n",
    "    def backward(self, dout=1):\n",
    "        ds = self.loss_layer.backward(dout)\n",
    "        da = self.out_layer.backward(ds)\n",
    "        da *= 0.5\n",
    "        self.in_layer0.backward(da)\n",
    "        self.in_layer1.backward(da)\n",
    "        return None\n",
    "\n",
    "# 이제 본격적으로 학습해보자.\n",
    "import os\n",
    "module_path = os.path.abspath(\".\")\n",
    "from common.trainer import Trainer\n",
    "\n",
    "window_size = 1\n",
    "hidden_size = 5\n",
    "batch_size = 3\n",
    "max_epoch = 1000\n",
    "\n",
    "text = \"I study Python and You study JavaScript.\"\n",
    "corpus, word_to_id, id_to_word = preprocess(text)\n",
    "\n",
    "vocab_size = len(word_to_id)\n",
    "contexts, target = create_contexts_target(corpus, window_size)\n",
    "contexts = convert_one_hot(contexts, vocab_size)\n",
    "target = convert_one_hot(target, vocab_size)\n",
    "\n",
    "model = SimpleCBOW(vocab_size, hidden_size)\n",
    "optimizer = Adam()\n",
    "trainer = Trainer(model, optimizer)\n",
    "\n",
    "trainer.fit(contexts, target, max_epoch, batch_size)"
   ]
  },
  {
   "cell_type": "code",
   "execution_count": 10,
   "metadata": {},
   "outputs": [
    {
     "output_type": "display_data",
     "data": {
      "text/plain": "<Figure size 432x288 with 1 Axes>",
      "image/png": "[encoded data removed]"
     },
     "metadata": {
      "needs_background": "light"
     }
    }
   ],
   "source": [
    "trainer.plot()"
   ]
  },
  {
   "cell_type": "code",
   "execution_count": 11,
   "metadata": {},
   "outputs": [
    {
     "output_type": "stream",
     "name": "stdout",
     "text": "i [-1.0901577  1.1491778  1.078492  -1.1051644 -1.2962   ]\nstudy [ 1.154049   -1.1632253  -1.186218    1.1233807  -0.01793403]\npython [-0.7974376   0.6964599   0.7716731  -0.78829056 -0.68517363]\nand [ 0.89068294 -0.8980191  -0.85832137  0.86041087 -2.037612  ]\nyou [-0.779569    0.70580465  0.77850765 -0.7886558  -0.7089577 ]\njavascript [-1.0965396  1.1460419  1.0555729 -1.101946  -1.2720102]\n. [ 1.0861663 -1.1255072 -1.1605011  1.1106279  1.6983181]\n"
    }
   ],
   "source": [
    "word_vecs = model.word_vecs\n",
    "\n",
    "# 각 단어를 벡터로 표현했다!! 이것이 단어의 분산표현이다.\n",
    "for word_id, word in id_to_word.items():\n",
    "    print(word, word_vecs[word_id])"
   ]
  },
  {
   "cell_type": "markdown",
   "metadata": {},
   "source": [
    "## CBOW 모델과 확률\n",
    "CBOW는 주변 단어들로 가운데 target을 추측하는 방법이다. 이를 확률로 나타내면 다음과 같다.\n",
    "- P(wt | wt-1, wt+1)\n",
    "\n",
    "이는, wt-1과 wt+1이 일어난 후에 wt가 일어날 확률을 뜻한다. 여기에 Cross Entropy Error를 적용하면, 다음과 같은 식이 된다.\n",
    "- L = -logP(wt | wt-1, wt+1)\n",
    "\n",
    "단순히 확률에 대해 로그를 취하고 마이너스를 더한 값이다. 이는 negative log likelihood라고 불린다! 이 식은 한 개의 샘플 데이터에 대한 손실함수이므로, 이를 코퍼스 전체로 확장하면 아래와 같은 식이 된다.\n",
    "- L = -(1/T)시그마(t=1 ~ T)logP(wt | wt-1, wt+1)\n",
    "\n",
    "CBOW 모델으로 학습을 진행한다는 것은, 위 L값을 최대한 작게한다는 것이다.\n",
    "\n",
    "## Skip-gram\n",
    "skip-gram은 가운데 단어가 주어졌을 때, 주변의 단어를 추측하는 방법이다. CBOW와 반대지. 그래서 신경망의 구조도 반대가 된다.\n",
    "\n",
    "입력층이 한개고, 출력층이 문맥의 수만큼 존재한다. 그렇다면 이를 확률로 나타낸다면 어떻게 될까? \n",
    "- P(wt-1, wt+1 | wt)\n",
    "\n",
    "가 될 것이다. skip-gram모델에서는 문맥의 단어 사이에 관련성이 없다고 판단하기 때문에, 이를 다음과 같이 풀 수 있다.\n",
    "- P(wt-1 | wt)P(wt+1 | wt)\n",
    "\n",
    "여기에 cross entropy error를 적용하면, \n",
    "- L = -(1/T)시그마(t=1 ~ T)(P(wt-1 | wt) + P(wt+1 | wt))이 된다.\n",
    "\n",
    "그렇다면, CBOW와 skip-gram 중 뭘 써야 할까? 답은 skip-gram이다. 코퍼스가 커지면 커질수록 저빈도의 단어나 유추문제 성능 면에서 더 우수한 게 증명되었기 때문이다. 다만 학습속도에서는 CBOW가 더 우수하다. 왜냐? skip-gram 모델은 문맥 수만큼 손실을 구해야 하기 때문에, 계산이 그만큼 복잡해지기 때문이다(위의 L을 비교하면 알 수 있음)."
   ]
  }
 ]
}