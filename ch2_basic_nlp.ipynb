{
 "nbformat": 4,
 "nbformat_minor": 2,
 "metadata": {
  "language_info": {
   "name": "python",
   "codemirror_mode": {
    "name": "ipython",
    "version": 3
   }
  },
  "orig_nbformat": 2,
  "file_extension": ".py",
  "mimetype": "text/x-python",
  "name": "python",
  "npconvert_exporter": "python",
  "pygments_lexer": "ipython3",
  "version": 3
 },
 "cells": [
  {
   "cell_type": "markdown",
   "metadata": {},
   "source": [
    "# 자연어와 단어의 분산표현\n",
    "\n",
    "이 파일에서는 컴퓨터에 언어를 이해시키는 것이 어떤 것인지, 그리고 어떤 접근법이 존재하는지를 중심으로 고찰해본다. 특히 딥러닝 등장 이전의 방법에 대해 자세히 잘펴본다. 다음 ch3 파일부터는 딥러닝을 기반으로 한 방법론을 살펴볼 것이다.\n",
    "\n",
    "또한, 이 파일에서는 문장을 파이썬으로 다루는 연습을 한다. 문장을 단어로 분할하는 처리나, 단어를 단어 ID로 변환하는 처리 등을 실습한다.\n",
    "\n",
    "자, 자연어처리의 세계로!\n",
    "\n",
    "## 단어의 의미\n",
    "자연어에서 '단어'란 최소한의 의미 단위이다. 따라서 자연어를 컴퓨터에 이해시키기 위해서는, 단어의 의미를 이해시키는 것이 가장 중요하다고도 할 수 있다. \n",
    "\n",
    "그렇다면 단어의 의미를 잘 캐치하려면 어떻게 해야할까? 구체적으로는 ch2와 ch3에서 다음 3가지 방법을 살펴볼 것이다.\n",
    "- 실라버스에 의한 방법\n",
    "- 카운트 기반의 방법\n",
    "- 추론 기반의 방법 (word2vec)"
   ]
  },
  {
   "cell_type": "code",
   "execution_count": null,
   "metadata": {},
   "outputs": [],
   "source": []
  }
 ]
}